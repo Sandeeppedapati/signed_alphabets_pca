{
 "cells": [
  {
   "cell_type": "markdown",
   "metadata": {
    "colab_type": "text",
    "id": "-FfjS2NxVzsA"
   },
   "source": [
    "# <h><font color=\"Red\">PRINCIPAL COMPONENT ANALYSIS</h>\n",
    "  "
   ]
  },
  {
   "cell_type": "markdown",
   "metadata": {
    "colab_type": "text",
    "id": "nmyDWQPxyECy"
   },
   "source": [
    "# <h><font color=\"blue\">PCA is one of the old and most important dimensionality reduction technique which is based on idea called variance maximisation based Reduction"
   ]
  },
  {
   "cell_type": "markdown",
   "metadata": {
    "colab_type": "text",
    "id": "iOBp8AOFyXH6"
   },
   "source": [
    "***As a part of our Journey,I did my second task as Dimensionality Reduction of 784d data into 2d by using PCA on an interesting data set called SIGNED ALPHABETS MNIST and LINK for data set is***\n",
    "https://www.kaggle.com/datamunge/sign-language-mnist"
   ]
  },
  {
   "cell_type": "code",
   "execution_count": 0,
   "metadata": {
    "colab": {},
    "colab_type": "code",
    "id": "i8js-zN7W1a8"
   },
   "outputs": [],
   "source": [
    "import pandas as pd\n",
    "import numpy as np\n",
    "import matplotlib.pyplot as plt\n",
    "import seaborn as sns\n",
    "import warnings\n",
    "warnings.filterwarnings(\"ignore\") "
   ]
  },
  {
   "cell_type": "code",
   "execution_count": 53,
   "metadata": {
    "colab": {
     "base_uri": "https://localhost:8080/",
     "height": 253
    },
    "colab_type": "code",
    "id": "U5o6qQrWXDxr",
    "outputId": "94b0ea13-06cc-4121-a1d7-8f5c9d9cfac3"
   },
   "outputs": [
    {
     "data": {
      "text/html": [
       "<div>\n",
       "<style scoped>\n",
       "    .dataframe tbody tr th:only-of-type {\n",
       "        vertical-align: middle;\n",
       "    }\n",
       "\n",
       "    .dataframe tbody tr th {\n",
       "        vertical-align: top;\n",
       "    }\n",
       "\n",
       "    .dataframe thead th {\n",
       "        text-align: right;\n",
       "    }\n",
       "</style>\n",
       "<table border=\"1\" class=\"dataframe\">\n",
       "  <thead>\n",
       "    <tr style=\"text-align: right;\">\n",
       "      <th></th>\n",
       "      <th>label</th>\n",
       "      <th>pixel1</th>\n",
       "      <th>pixel2</th>\n",
       "      <th>pixel3</th>\n",
       "      <th>pixel4</th>\n",
       "      <th>pixel5</th>\n",
       "      <th>pixel6</th>\n",
       "      <th>pixel7</th>\n",
       "      <th>pixel8</th>\n",
       "      <th>pixel9</th>\n",
       "      <th>pixel10</th>\n",
       "      <th>pixel11</th>\n",
       "      <th>pixel12</th>\n",
       "      <th>pixel13</th>\n",
       "      <th>pixel14</th>\n",
       "      <th>pixel15</th>\n",
       "      <th>pixel16</th>\n",
       "      <th>pixel17</th>\n",
       "      <th>pixel18</th>\n",
       "      <th>pixel19</th>\n",
       "      <th>pixel20</th>\n",
       "      <th>pixel21</th>\n",
       "      <th>pixel22</th>\n",
       "      <th>pixel23</th>\n",
       "      <th>pixel24</th>\n",
       "      <th>pixel25</th>\n",
       "      <th>pixel26</th>\n",
       "      <th>pixel27</th>\n",
       "      <th>pixel28</th>\n",
       "      <th>pixel29</th>\n",
       "      <th>pixel30</th>\n",
       "      <th>pixel31</th>\n",
       "      <th>pixel32</th>\n",
       "      <th>pixel33</th>\n",
       "      <th>pixel34</th>\n",
       "      <th>pixel35</th>\n",
       "      <th>pixel36</th>\n",
       "      <th>pixel37</th>\n",
       "      <th>pixel38</th>\n",
       "      <th>pixel39</th>\n",
       "      <th>...</th>\n",
       "      <th>pixel745</th>\n",
       "      <th>pixel746</th>\n",
       "      <th>pixel747</th>\n",
       "      <th>pixel748</th>\n",
       "      <th>pixel749</th>\n",
       "      <th>pixel750</th>\n",
       "      <th>pixel751</th>\n",
       "      <th>pixel752</th>\n",
       "      <th>pixel753</th>\n",
       "      <th>pixel754</th>\n",
       "      <th>pixel755</th>\n",
       "      <th>pixel756</th>\n",
       "      <th>pixel757</th>\n",
       "      <th>pixel758</th>\n",
       "      <th>pixel759</th>\n",
       "      <th>pixel760</th>\n",
       "      <th>pixel761</th>\n",
       "      <th>pixel762</th>\n",
       "      <th>pixel763</th>\n",
       "      <th>pixel764</th>\n",
       "      <th>pixel765</th>\n",
       "      <th>pixel766</th>\n",
       "      <th>pixel767</th>\n",
       "      <th>pixel768</th>\n",
       "      <th>pixel769</th>\n",
       "      <th>pixel770</th>\n",
       "      <th>pixel771</th>\n",
       "      <th>pixel772</th>\n",
       "      <th>pixel773</th>\n",
       "      <th>pixel774</th>\n",
       "      <th>pixel775</th>\n",
       "      <th>pixel776</th>\n",
       "      <th>pixel777</th>\n",
       "      <th>pixel778</th>\n",
       "      <th>pixel779</th>\n",
       "      <th>pixel780</th>\n",
       "      <th>pixel781</th>\n",
       "      <th>pixel782</th>\n",
       "      <th>pixel783</th>\n",
       "      <th>pixel784</th>\n",
       "    </tr>\n",
       "  </thead>\n",
       "  <tbody>\n",
       "    <tr>\n",
       "      <th>0</th>\n",
       "      <td>3</td>\n",
       "      <td>107</td>\n",
       "      <td>118</td>\n",
       "      <td>127</td>\n",
       "      <td>134</td>\n",
       "      <td>139</td>\n",
       "      <td>143</td>\n",
       "      <td>146</td>\n",
       "      <td>150</td>\n",
       "      <td>153</td>\n",
       "      <td>156</td>\n",
       "      <td>158</td>\n",
       "      <td>160</td>\n",
       "      <td>163</td>\n",
       "      <td>165</td>\n",
       "      <td>159</td>\n",
       "      <td>166</td>\n",
       "      <td>168</td>\n",
       "      <td>170</td>\n",
       "      <td>170</td>\n",
       "      <td>171</td>\n",
       "      <td>171</td>\n",
       "      <td>171</td>\n",
       "      <td>172</td>\n",
       "      <td>171</td>\n",
       "      <td>171</td>\n",
       "      <td>170</td>\n",
       "      <td>170</td>\n",
       "      <td>169</td>\n",
       "      <td>111</td>\n",
       "      <td>121</td>\n",
       "      <td>129</td>\n",
       "      <td>135</td>\n",
       "      <td>141</td>\n",
       "      <td>144</td>\n",
       "      <td>148</td>\n",
       "      <td>151</td>\n",
       "      <td>154</td>\n",
       "      <td>157</td>\n",
       "      <td>160</td>\n",
       "      <td>...</td>\n",
       "      <td>205</td>\n",
       "      <td>206</td>\n",
       "      <td>206</td>\n",
       "      <td>207</td>\n",
       "      <td>207</td>\n",
       "      <td>206</td>\n",
       "      <td>206</td>\n",
       "      <td>204</td>\n",
       "      <td>205</td>\n",
       "      <td>204</td>\n",
       "      <td>203</td>\n",
       "      <td>202</td>\n",
       "      <td>142</td>\n",
       "      <td>151</td>\n",
       "      <td>160</td>\n",
       "      <td>172</td>\n",
       "      <td>196</td>\n",
       "      <td>188</td>\n",
       "      <td>188</td>\n",
       "      <td>190</td>\n",
       "      <td>135</td>\n",
       "      <td>96</td>\n",
       "      <td>86</td>\n",
       "      <td>77</td>\n",
       "      <td>77</td>\n",
       "      <td>79</td>\n",
       "      <td>176</td>\n",
       "      <td>205</td>\n",
       "      <td>207</td>\n",
       "      <td>207</td>\n",
       "      <td>207</td>\n",
       "      <td>207</td>\n",
       "      <td>207</td>\n",
       "      <td>207</td>\n",
       "      <td>206</td>\n",
       "      <td>206</td>\n",
       "      <td>206</td>\n",
       "      <td>204</td>\n",
       "      <td>203</td>\n",
       "      <td>202</td>\n",
       "    </tr>\n",
       "    <tr>\n",
       "      <th>1</th>\n",
       "      <td>6</td>\n",
       "      <td>155</td>\n",
       "      <td>157</td>\n",
       "      <td>156</td>\n",
       "      <td>156</td>\n",
       "      <td>156</td>\n",
       "      <td>157</td>\n",
       "      <td>156</td>\n",
       "      <td>158</td>\n",
       "      <td>158</td>\n",
       "      <td>157</td>\n",
       "      <td>158</td>\n",
       "      <td>156</td>\n",
       "      <td>154</td>\n",
       "      <td>154</td>\n",
       "      <td>153</td>\n",
       "      <td>152</td>\n",
       "      <td>151</td>\n",
       "      <td>149</td>\n",
       "      <td>149</td>\n",
       "      <td>148</td>\n",
       "      <td>147</td>\n",
       "      <td>146</td>\n",
       "      <td>144</td>\n",
       "      <td>142</td>\n",
       "      <td>143</td>\n",
       "      <td>138</td>\n",
       "      <td>92</td>\n",
       "      <td>108</td>\n",
       "      <td>158</td>\n",
       "      <td>159</td>\n",
       "      <td>159</td>\n",
       "      <td>159</td>\n",
       "      <td>160</td>\n",
       "      <td>160</td>\n",
       "      <td>160</td>\n",
       "      <td>160</td>\n",
       "      <td>160</td>\n",
       "      <td>160</td>\n",
       "      <td>160</td>\n",
       "      <td>...</td>\n",
       "      <td>100</td>\n",
       "      <td>78</td>\n",
       "      <td>120</td>\n",
       "      <td>157</td>\n",
       "      <td>168</td>\n",
       "      <td>107</td>\n",
       "      <td>99</td>\n",
       "      <td>121</td>\n",
       "      <td>133</td>\n",
       "      <td>97</td>\n",
       "      <td>95</td>\n",
       "      <td>120</td>\n",
       "      <td>135</td>\n",
       "      <td>116</td>\n",
       "      <td>95</td>\n",
       "      <td>79</td>\n",
       "      <td>69</td>\n",
       "      <td>86</td>\n",
       "      <td>139</td>\n",
       "      <td>173</td>\n",
       "      <td>200</td>\n",
       "      <td>185</td>\n",
       "      <td>175</td>\n",
       "      <td>198</td>\n",
       "      <td>124</td>\n",
       "      <td>118</td>\n",
       "      <td>94</td>\n",
       "      <td>140</td>\n",
       "      <td>133</td>\n",
       "      <td>84</td>\n",
       "      <td>69</td>\n",
       "      <td>149</td>\n",
       "      <td>128</td>\n",
       "      <td>87</td>\n",
       "      <td>94</td>\n",
       "      <td>163</td>\n",
       "      <td>175</td>\n",
       "      <td>103</td>\n",
       "      <td>135</td>\n",
       "      <td>149</td>\n",
       "    </tr>\n",
       "    <tr>\n",
       "      <th>2</th>\n",
       "      <td>2</td>\n",
       "      <td>187</td>\n",
       "      <td>188</td>\n",
       "      <td>188</td>\n",
       "      <td>187</td>\n",
       "      <td>187</td>\n",
       "      <td>186</td>\n",
       "      <td>187</td>\n",
       "      <td>188</td>\n",
       "      <td>187</td>\n",
       "      <td>186</td>\n",
       "      <td>185</td>\n",
       "      <td>185</td>\n",
       "      <td>185</td>\n",
       "      <td>184</td>\n",
       "      <td>184</td>\n",
       "      <td>184</td>\n",
       "      <td>181</td>\n",
       "      <td>181</td>\n",
       "      <td>179</td>\n",
       "      <td>179</td>\n",
       "      <td>179</td>\n",
       "      <td>178</td>\n",
       "      <td>178</td>\n",
       "      <td>109</td>\n",
       "      <td>52</td>\n",
       "      <td>66</td>\n",
       "      <td>77</td>\n",
       "      <td>83</td>\n",
       "      <td>188</td>\n",
       "      <td>189</td>\n",
       "      <td>189</td>\n",
       "      <td>188</td>\n",
       "      <td>188</td>\n",
       "      <td>189</td>\n",
       "      <td>188</td>\n",
       "      <td>188</td>\n",
       "      <td>188</td>\n",
       "      <td>188</td>\n",
       "      <td>187</td>\n",
       "      <td>...</td>\n",
       "      <td>203</td>\n",
       "      <td>204</td>\n",
       "      <td>203</td>\n",
       "      <td>201</td>\n",
       "      <td>200</td>\n",
       "      <td>200</td>\n",
       "      <td>199</td>\n",
       "      <td>198</td>\n",
       "      <td>196</td>\n",
       "      <td>195</td>\n",
       "      <td>194</td>\n",
       "      <td>193</td>\n",
       "      <td>198</td>\n",
       "      <td>166</td>\n",
       "      <td>132</td>\n",
       "      <td>114</td>\n",
       "      <td>89</td>\n",
       "      <td>74</td>\n",
       "      <td>79</td>\n",
       "      <td>77</td>\n",
       "      <td>74</td>\n",
       "      <td>78</td>\n",
       "      <td>132</td>\n",
       "      <td>188</td>\n",
       "      <td>210</td>\n",
       "      <td>209</td>\n",
       "      <td>206</td>\n",
       "      <td>205</td>\n",
       "      <td>204</td>\n",
       "      <td>203</td>\n",
       "      <td>202</td>\n",
       "      <td>201</td>\n",
       "      <td>200</td>\n",
       "      <td>199</td>\n",
       "      <td>198</td>\n",
       "      <td>199</td>\n",
       "      <td>198</td>\n",
       "      <td>195</td>\n",
       "      <td>194</td>\n",
       "      <td>195</td>\n",
       "    </tr>\n",
       "    <tr>\n",
       "      <th>3</th>\n",
       "      <td>2</td>\n",
       "      <td>211</td>\n",
       "      <td>211</td>\n",
       "      <td>212</td>\n",
       "      <td>212</td>\n",
       "      <td>211</td>\n",
       "      <td>210</td>\n",
       "      <td>211</td>\n",
       "      <td>210</td>\n",
       "      <td>210</td>\n",
       "      <td>211</td>\n",
       "      <td>209</td>\n",
       "      <td>207</td>\n",
       "      <td>208</td>\n",
       "      <td>207</td>\n",
       "      <td>206</td>\n",
       "      <td>203</td>\n",
       "      <td>202</td>\n",
       "      <td>201</td>\n",
       "      <td>200</td>\n",
       "      <td>198</td>\n",
       "      <td>197</td>\n",
       "      <td>195</td>\n",
       "      <td>192</td>\n",
       "      <td>197</td>\n",
       "      <td>171</td>\n",
       "      <td>51</td>\n",
       "      <td>52</td>\n",
       "      <td>54</td>\n",
       "      <td>212</td>\n",
       "      <td>213</td>\n",
       "      <td>215</td>\n",
       "      <td>215</td>\n",
       "      <td>212</td>\n",
       "      <td>212</td>\n",
       "      <td>213</td>\n",
       "      <td>212</td>\n",
       "      <td>212</td>\n",
       "      <td>211</td>\n",
       "      <td>211</td>\n",
       "      <td>...</td>\n",
       "      <td>247</td>\n",
       "      <td>242</td>\n",
       "      <td>233</td>\n",
       "      <td>231</td>\n",
       "      <td>230</td>\n",
       "      <td>229</td>\n",
       "      <td>227</td>\n",
       "      <td>225</td>\n",
       "      <td>223</td>\n",
       "      <td>221</td>\n",
       "      <td>220</td>\n",
       "      <td>216</td>\n",
       "      <td>58</td>\n",
       "      <td>51</td>\n",
       "      <td>49</td>\n",
       "      <td>50</td>\n",
       "      <td>57</td>\n",
       "      <td>60</td>\n",
       "      <td>17</td>\n",
       "      <td>15</td>\n",
       "      <td>18</td>\n",
       "      <td>17</td>\n",
       "      <td>19</td>\n",
       "      <td>1</td>\n",
       "      <td>159</td>\n",
       "      <td>255</td>\n",
       "      <td>237</td>\n",
       "      <td>239</td>\n",
       "      <td>237</td>\n",
       "      <td>236</td>\n",
       "      <td>235</td>\n",
       "      <td>234</td>\n",
       "      <td>233</td>\n",
       "      <td>231</td>\n",
       "      <td>230</td>\n",
       "      <td>226</td>\n",
       "      <td>225</td>\n",
       "      <td>222</td>\n",
       "      <td>229</td>\n",
       "      <td>163</td>\n",
       "    </tr>\n",
       "    <tr>\n",
       "      <th>4</th>\n",
       "      <td>13</td>\n",
       "      <td>164</td>\n",
       "      <td>167</td>\n",
       "      <td>170</td>\n",
       "      <td>172</td>\n",
       "      <td>176</td>\n",
       "      <td>179</td>\n",
       "      <td>180</td>\n",
       "      <td>184</td>\n",
       "      <td>185</td>\n",
       "      <td>186</td>\n",
       "      <td>188</td>\n",
       "      <td>189</td>\n",
       "      <td>189</td>\n",
       "      <td>190</td>\n",
       "      <td>191</td>\n",
       "      <td>189</td>\n",
       "      <td>190</td>\n",
       "      <td>190</td>\n",
       "      <td>187</td>\n",
       "      <td>190</td>\n",
       "      <td>192</td>\n",
       "      <td>193</td>\n",
       "      <td>191</td>\n",
       "      <td>191</td>\n",
       "      <td>192</td>\n",
       "      <td>192</td>\n",
       "      <td>194</td>\n",
       "      <td>194</td>\n",
       "      <td>166</td>\n",
       "      <td>169</td>\n",
       "      <td>172</td>\n",
       "      <td>174</td>\n",
       "      <td>177</td>\n",
       "      <td>180</td>\n",
       "      <td>182</td>\n",
       "      <td>185</td>\n",
       "      <td>186</td>\n",
       "      <td>187</td>\n",
       "      <td>190</td>\n",
       "      <td>...</td>\n",
       "      <td>90</td>\n",
       "      <td>77</td>\n",
       "      <td>88</td>\n",
       "      <td>117</td>\n",
       "      <td>123</td>\n",
       "      <td>127</td>\n",
       "      <td>129</td>\n",
       "      <td>134</td>\n",
       "      <td>145</td>\n",
       "      <td>152</td>\n",
       "      <td>156</td>\n",
       "      <td>179</td>\n",
       "      <td>105</td>\n",
       "      <td>106</td>\n",
       "      <td>105</td>\n",
       "      <td>104</td>\n",
       "      <td>104</td>\n",
       "      <td>104</td>\n",
       "      <td>175</td>\n",
       "      <td>199</td>\n",
       "      <td>178</td>\n",
       "      <td>152</td>\n",
       "      <td>136</td>\n",
       "      <td>130</td>\n",
       "      <td>136</td>\n",
       "      <td>150</td>\n",
       "      <td>118</td>\n",
       "      <td>92</td>\n",
       "      <td>85</td>\n",
       "      <td>76</td>\n",
       "      <td>92</td>\n",
       "      <td>105</td>\n",
       "      <td>105</td>\n",
       "      <td>108</td>\n",
       "      <td>133</td>\n",
       "      <td>163</td>\n",
       "      <td>157</td>\n",
       "      <td>163</td>\n",
       "      <td>164</td>\n",
       "      <td>179</td>\n",
       "    </tr>\n",
       "  </tbody>\n",
       "</table>\n",
       "<p>5 rows × 785 columns</p>\n",
       "</div>"
      ],
      "text/plain": [
       "   label  pixel1  pixel2  pixel3  ...  pixel781  pixel782  pixel783  pixel784\n",
       "0      3     107     118     127  ...       206       204       203       202\n",
       "1      6     155     157     156  ...       175       103       135       149\n",
       "2      2     187     188     188  ...       198       195       194       195\n",
       "3      2     211     211     212  ...       225       222       229       163\n",
       "4     13     164     167     170  ...       157       163       164       179\n",
       "\n",
       "[5 rows x 785 columns]"
      ]
     },
     "execution_count": 53,
     "metadata": {
      "tags": []
     },
     "output_type": "execute_result"
    }
   ],
   "source": [
    "data = pd.read_csv(\"/content/drive/My Drive/Data_Scientist/pca-tsne/sign_mnist_train.csv\")\n",
    "data.head()"
   ]
  },
  {
   "cell_type": "code",
   "execution_count": 54,
   "metadata": {
    "colab": {
     "base_uri": "https://localhost:8080/",
     "height": 34
    },
    "colab_type": "code",
    "id": "7qvLNzz5-4HU",
    "outputId": "0987f0e7-632a-4ff0-f239-342c64d9f1f9"
   },
   "outputs": [
    {
     "data": {
      "text/plain": [
       "(27455, 785)"
      ]
     },
     "execution_count": 54,
     "metadata": {
      "tags": []
     },
     "output_type": "execute_result"
    }
   ],
   "source": [
    "data.shape"
   ]
  },
  {
   "cell_type": "code",
   "execution_count": 55,
   "metadata": {
    "colab": {
     "base_uri": "https://localhost:8080/",
     "height": 253
    },
    "colab_type": "code",
    "id": "b_mCK5Kxs1Vp",
    "outputId": "8b73288e-520c-4afa-ae22-bc34ff57c9a2"
   },
   "outputs": [
    {
     "data": {
      "text/html": [
       "<div>\n",
       "<style scoped>\n",
       "    .dataframe tbody tr th:only-of-type {\n",
       "        vertical-align: middle;\n",
       "    }\n",
       "\n",
       "    .dataframe tbody tr th {\n",
       "        vertical-align: top;\n",
       "    }\n",
       "\n",
       "    .dataframe thead th {\n",
       "        text-align: right;\n",
       "    }\n",
       "</style>\n",
       "<table border=\"1\" class=\"dataframe\">\n",
       "  <thead>\n",
       "    <tr style=\"text-align: right;\">\n",
       "      <th></th>\n",
       "      <th>pixel1</th>\n",
       "      <th>pixel2</th>\n",
       "      <th>pixel3</th>\n",
       "      <th>pixel4</th>\n",
       "      <th>pixel5</th>\n",
       "      <th>pixel6</th>\n",
       "      <th>pixel7</th>\n",
       "      <th>pixel8</th>\n",
       "      <th>pixel9</th>\n",
       "      <th>pixel10</th>\n",
       "      <th>pixel11</th>\n",
       "      <th>pixel12</th>\n",
       "      <th>pixel13</th>\n",
       "      <th>pixel14</th>\n",
       "      <th>pixel15</th>\n",
       "      <th>pixel16</th>\n",
       "      <th>pixel17</th>\n",
       "      <th>pixel18</th>\n",
       "      <th>pixel19</th>\n",
       "      <th>pixel20</th>\n",
       "      <th>pixel21</th>\n",
       "      <th>pixel22</th>\n",
       "      <th>pixel23</th>\n",
       "      <th>pixel24</th>\n",
       "      <th>pixel25</th>\n",
       "      <th>pixel26</th>\n",
       "      <th>pixel27</th>\n",
       "      <th>pixel28</th>\n",
       "      <th>pixel29</th>\n",
       "      <th>pixel30</th>\n",
       "      <th>pixel31</th>\n",
       "      <th>pixel32</th>\n",
       "      <th>pixel33</th>\n",
       "      <th>pixel34</th>\n",
       "      <th>pixel35</th>\n",
       "      <th>pixel36</th>\n",
       "      <th>pixel37</th>\n",
       "      <th>pixel38</th>\n",
       "      <th>pixel39</th>\n",
       "      <th>pixel40</th>\n",
       "      <th>...</th>\n",
       "      <th>pixel745</th>\n",
       "      <th>pixel746</th>\n",
       "      <th>pixel747</th>\n",
       "      <th>pixel748</th>\n",
       "      <th>pixel749</th>\n",
       "      <th>pixel750</th>\n",
       "      <th>pixel751</th>\n",
       "      <th>pixel752</th>\n",
       "      <th>pixel753</th>\n",
       "      <th>pixel754</th>\n",
       "      <th>pixel755</th>\n",
       "      <th>pixel756</th>\n",
       "      <th>pixel757</th>\n",
       "      <th>pixel758</th>\n",
       "      <th>pixel759</th>\n",
       "      <th>pixel760</th>\n",
       "      <th>pixel761</th>\n",
       "      <th>pixel762</th>\n",
       "      <th>pixel763</th>\n",
       "      <th>pixel764</th>\n",
       "      <th>pixel765</th>\n",
       "      <th>pixel766</th>\n",
       "      <th>pixel767</th>\n",
       "      <th>pixel768</th>\n",
       "      <th>pixel769</th>\n",
       "      <th>pixel770</th>\n",
       "      <th>pixel771</th>\n",
       "      <th>pixel772</th>\n",
       "      <th>pixel773</th>\n",
       "      <th>pixel774</th>\n",
       "      <th>pixel775</th>\n",
       "      <th>pixel776</th>\n",
       "      <th>pixel777</th>\n",
       "      <th>pixel778</th>\n",
       "      <th>pixel779</th>\n",
       "      <th>pixel780</th>\n",
       "      <th>pixel781</th>\n",
       "      <th>pixel782</th>\n",
       "      <th>pixel783</th>\n",
       "      <th>pixel784</th>\n",
       "    </tr>\n",
       "  </thead>\n",
       "  <tbody>\n",
       "    <tr>\n",
       "      <th>0</th>\n",
       "      <td>107</td>\n",
       "      <td>118</td>\n",
       "      <td>127</td>\n",
       "      <td>134</td>\n",
       "      <td>139</td>\n",
       "      <td>143</td>\n",
       "      <td>146</td>\n",
       "      <td>150</td>\n",
       "      <td>153</td>\n",
       "      <td>156</td>\n",
       "      <td>158</td>\n",
       "      <td>160</td>\n",
       "      <td>163</td>\n",
       "      <td>165</td>\n",
       "      <td>159</td>\n",
       "      <td>166</td>\n",
       "      <td>168</td>\n",
       "      <td>170</td>\n",
       "      <td>170</td>\n",
       "      <td>171</td>\n",
       "      <td>171</td>\n",
       "      <td>171</td>\n",
       "      <td>172</td>\n",
       "      <td>171</td>\n",
       "      <td>171</td>\n",
       "      <td>170</td>\n",
       "      <td>170</td>\n",
       "      <td>169</td>\n",
       "      <td>111</td>\n",
       "      <td>121</td>\n",
       "      <td>129</td>\n",
       "      <td>135</td>\n",
       "      <td>141</td>\n",
       "      <td>144</td>\n",
       "      <td>148</td>\n",
       "      <td>151</td>\n",
       "      <td>154</td>\n",
       "      <td>157</td>\n",
       "      <td>160</td>\n",
       "      <td>163</td>\n",
       "      <td>...</td>\n",
       "      <td>205</td>\n",
       "      <td>206</td>\n",
       "      <td>206</td>\n",
       "      <td>207</td>\n",
       "      <td>207</td>\n",
       "      <td>206</td>\n",
       "      <td>206</td>\n",
       "      <td>204</td>\n",
       "      <td>205</td>\n",
       "      <td>204</td>\n",
       "      <td>203</td>\n",
       "      <td>202</td>\n",
       "      <td>142</td>\n",
       "      <td>151</td>\n",
       "      <td>160</td>\n",
       "      <td>172</td>\n",
       "      <td>196</td>\n",
       "      <td>188</td>\n",
       "      <td>188</td>\n",
       "      <td>190</td>\n",
       "      <td>135</td>\n",
       "      <td>96</td>\n",
       "      <td>86</td>\n",
       "      <td>77</td>\n",
       "      <td>77</td>\n",
       "      <td>79</td>\n",
       "      <td>176</td>\n",
       "      <td>205</td>\n",
       "      <td>207</td>\n",
       "      <td>207</td>\n",
       "      <td>207</td>\n",
       "      <td>207</td>\n",
       "      <td>207</td>\n",
       "      <td>207</td>\n",
       "      <td>206</td>\n",
       "      <td>206</td>\n",
       "      <td>206</td>\n",
       "      <td>204</td>\n",
       "      <td>203</td>\n",
       "      <td>202</td>\n",
       "    </tr>\n",
       "    <tr>\n",
       "      <th>1</th>\n",
       "      <td>155</td>\n",
       "      <td>157</td>\n",
       "      <td>156</td>\n",
       "      <td>156</td>\n",
       "      <td>156</td>\n",
       "      <td>157</td>\n",
       "      <td>156</td>\n",
       "      <td>158</td>\n",
       "      <td>158</td>\n",
       "      <td>157</td>\n",
       "      <td>158</td>\n",
       "      <td>156</td>\n",
       "      <td>154</td>\n",
       "      <td>154</td>\n",
       "      <td>153</td>\n",
       "      <td>152</td>\n",
       "      <td>151</td>\n",
       "      <td>149</td>\n",
       "      <td>149</td>\n",
       "      <td>148</td>\n",
       "      <td>147</td>\n",
       "      <td>146</td>\n",
       "      <td>144</td>\n",
       "      <td>142</td>\n",
       "      <td>143</td>\n",
       "      <td>138</td>\n",
       "      <td>92</td>\n",
       "      <td>108</td>\n",
       "      <td>158</td>\n",
       "      <td>159</td>\n",
       "      <td>159</td>\n",
       "      <td>159</td>\n",
       "      <td>160</td>\n",
       "      <td>160</td>\n",
       "      <td>160</td>\n",
       "      <td>160</td>\n",
       "      <td>160</td>\n",
       "      <td>160</td>\n",
       "      <td>160</td>\n",
       "      <td>159</td>\n",
       "      <td>...</td>\n",
       "      <td>100</td>\n",
       "      <td>78</td>\n",
       "      <td>120</td>\n",
       "      <td>157</td>\n",
       "      <td>168</td>\n",
       "      <td>107</td>\n",
       "      <td>99</td>\n",
       "      <td>121</td>\n",
       "      <td>133</td>\n",
       "      <td>97</td>\n",
       "      <td>95</td>\n",
       "      <td>120</td>\n",
       "      <td>135</td>\n",
       "      <td>116</td>\n",
       "      <td>95</td>\n",
       "      <td>79</td>\n",
       "      <td>69</td>\n",
       "      <td>86</td>\n",
       "      <td>139</td>\n",
       "      <td>173</td>\n",
       "      <td>200</td>\n",
       "      <td>185</td>\n",
       "      <td>175</td>\n",
       "      <td>198</td>\n",
       "      <td>124</td>\n",
       "      <td>118</td>\n",
       "      <td>94</td>\n",
       "      <td>140</td>\n",
       "      <td>133</td>\n",
       "      <td>84</td>\n",
       "      <td>69</td>\n",
       "      <td>149</td>\n",
       "      <td>128</td>\n",
       "      <td>87</td>\n",
       "      <td>94</td>\n",
       "      <td>163</td>\n",
       "      <td>175</td>\n",
       "      <td>103</td>\n",
       "      <td>135</td>\n",
       "      <td>149</td>\n",
       "    </tr>\n",
       "    <tr>\n",
       "      <th>2</th>\n",
       "      <td>187</td>\n",
       "      <td>188</td>\n",
       "      <td>188</td>\n",
       "      <td>187</td>\n",
       "      <td>187</td>\n",
       "      <td>186</td>\n",
       "      <td>187</td>\n",
       "      <td>188</td>\n",
       "      <td>187</td>\n",
       "      <td>186</td>\n",
       "      <td>185</td>\n",
       "      <td>185</td>\n",
       "      <td>185</td>\n",
       "      <td>184</td>\n",
       "      <td>184</td>\n",
       "      <td>184</td>\n",
       "      <td>181</td>\n",
       "      <td>181</td>\n",
       "      <td>179</td>\n",
       "      <td>179</td>\n",
       "      <td>179</td>\n",
       "      <td>178</td>\n",
       "      <td>178</td>\n",
       "      <td>109</td>\n",
       "      <td>52</td>\n",
       "      <td>66</td>\n",
       "      <td>77</td>\n",
       "      <td>83</td>\n",
       "      <td>188</td>\n",
       "      <td>189</td>\n",
       "      <td>189</td>\n",
       "      <td>188</td>\n",
       "      <td>188</td>\n",
       "      <td>189</td>\n",
       "      <td>188</td>\n",
       "      <td>188</td>\n",
       "      <td>188</td>\n",
       "      <td>188</td>\n",
       "      <td>187</td>\n",
       "      <td>185</td>\n",
       "      <td>...</td>\n",
       "      <td>203</td>\n",
       "      <td>204</td>\n",
       "      <td>203</td>\n",
       "      <td>201</td>\n",
       "      <td>200</td>\n",
       "      <td>200</td>\n",
       "      <td>199</td>\n",
       "      <td>198</td>\n",
       "      <td>196</td>\n",
       "      <td>195</td>\n",
       "      <td>194</td>\n",
       "      <td>193</td>\n",
       "      <td>198</td>\n",
       "      <td>166</td>\n",
       "      <td>132</td>\n",
       "      <td>114</td>\n",
       "      <td>89</td>\n",
       "      <td>74</td>\n",
       "      <td>79</td>\n",
       "      <td>77</td>\n",
       "      <td>74</td>\n",
       "      <td>78</td>\n",
       "      <td>132</td>\n",
       "      <td>188</td>\n",
       "      <td>210</td>\n",
       "      <td>209</td>\n",
       "      <td>206</td>\n",
       "      <td>205</td>\n",
       "      <td>204</td>\n",
       "      <td>203</td>\n",
       "      <td>202</td>\n",
       "      <td>201</td>\n",
       "      <td>200</td>\n",
       "      <td>199</td>\n",
       "      <td>198</td>\n",
       "      <td>199</td>\n",
       "      <td>198</td>\n",
       "      <td>195</td>\n",
       "      <td>194</td>\n",
       "      <td>195</td>\n",
       "    </tr>\n",
       "    <tr>\n",
       "      <th>3</th>\n",
       "      <td>211</td>\n",
       "      <td>211</td>\n",
       "      <td>212</td>\n",
       "      <td>212</td>\n",
       "      <td>211</td>\n",
       "      <td>210</td>\n",
       "      <td>211</td>\n",
       "      <td>210</td>\n",
       "      <td>210</td>\n",
       "      <td>211</td>\n",
       "      <td>209</td>\n",
       "      <td>207</td>\n",
       "      <td>208</td>\n",
       "      <td>207</td>\n",
       "      <td>206</td>\n",
       "      <td>203</td>\n",
       "      <td>202</td>\n",
       "      <td>201</td>\n",
       "      <td>200</td>\n",
       "      <td>198</td>\n",
       "      <td>197</td>\n",
       "      <td>195</td>\n",
       "      <td>192</td>\n",
       "      <td>197</td>\n",
       "      <td>171</td>\n",
       "      <td>51</td>\n",
       "      <td>52</td>\n",
       "      <td>54</td>\n",
       "      <td>212</td>\n",
       "      <td>213</td>\n",
       "      <td>215</td>\n",
       "      <td>215</td>\n",
       "      <td>212</td>\n",
       "      <td>212</td>\n",
       "      <td>213</td>\n",
       "      <td>212</td>\n",
       "      <td>212</td>\n",
       "      <td>211</td>\n",
       "      <td>211</td>\n",
       "      <td>209</td>\n",
       "      <td>...</td>\n",
       "      <td>247</td>\n",
       "      <td>242</td>\n",
       "      <td>233</td>\n",
       "      <td>231</td>\n",
       "      <td>230</td>\n",
       "      <td>229</td>\n",
       "      <td>227</td>\n",
       "      <td>225</td>\n",
       "      <td>223</td>\n",
       "      <td>221</td>\n",
       "      <td>220</td>\n",
       "      <td>216</td>\n",
       "      <td>58</td>\n",
       "      <td>51</td>\n",
       "      <td>49</td>\n",
       "      <td>50</td>\n",
       "      <td>57</td>\n",
       "      <td>60</td>\n",
       "      <td>17</td>\n",
       "      <td>15</td>\n",
       "      <td>18</td>\n",
       "      <td>17</td>\n",
       "      <td>19</td>\n",
       "      <td>1</td>\n",
       "      <td>159</td>\n",
       "      <td>255</td>\n",
       "      <td>237</td>\n",
       "      <td>239</td>\n",
       "      <td>237</td>\n",
       "      <td>236</td>\n",
       "      <td>235</td>\n",
       "      <td>234</td>\n",
       "      <td>233</td>\n",
       "      <td>231</td>\n",
       "      <td>230</td>\n",
       "      <td>226</td>\n",
       "      <td>225</td>\n",
       "      <td>222</td>\n",
       "      <td>229</td>\n",
       "      <td>163</td>\n",
       "    </tr>\n",
       "    <tr>\n",
       "      <th>4</th>\n",
       "      <td>164</td>\n",
       "      <td>167</td>\n",
       "      <td>170</td>\n",
       "      <td>172</td>\n",
       "      <td>176</td>\n",
       "      <td>179</td>\n",
       "      <td>180</td>\n",
       "      <td>184</td>\n",
       "      <td>185</td>\n",
       "      <td>186</td>\n",
       "      <td>188</td>\n",
       "      <td>189</td>\n",
       "      <td>189</td>\n",
       "      <td>190</td>\n",
       "      <td>191</td>\n",
       "      <td>189</td>\n",
       "      <td>190</td>\n",
       "      <td>190</td>\n",
       "      <td>187</td>\n",
       "      <td>190</td>\n",
       "      <td>192</td>\n",
       "      <td>193</td>\n",
       "      <td>191</td>\n",
       "      <td>191</td>\n",
       "      <td>192</td>\n",
       "      <td>192</td>\n",
       "      <td>194</td>\n",
       "      <td>194</td>\n",
       "      <td>166</td>\n",
       "      <td>169</td>\n",
       "      <td>172</td>\n",
       "      <td>174</td>\n",
       "      <td>177</td>\n",
       "      <td>180</td>\n",
       "      <td>182</td>\n",
       "      <td>185</td>\n",
       "      <td>186</td>\n",
       "      <td>187</td>\n",
       "      <td>190</td>\n",
       "      <td>191</td>\n",
       "      <td>...</td>\n",
       "      <td>90</td>\n",
       "      <td>77</td>\n",
       "      <td>88</td>\n",
       "      <td>117</td>\n",
       "      <td>123</td>\n",
       "      <td>127</td>\n",
       "      <td>129</td>\n",
       "      <td>134</td>\n",
       "      <td>145</td>\n",
       "      <td>152</td>\n",
       "      <td>156</td>\n",
       "      <td>179</td>\n",
       "      <td>105</td>\n",
       "      <td>106</td>\n",
       "      <td>105</td>\n",
       "      <td>104</td>\n",
       "      <td>104</td>\n",
       "      <td>104</td>\n",
       "      <td>175</td>\n",
       "      <td>199</td>\n",
       "      <td>178</td>\n",
       "      <td>152</td>\n",
       "      <td>136</td>\n",
       "      <td>130</td>\n",
       "      <td>136</td>\n",
       "      <td>150</td>\n",
       "      <td>118</td>\n",
       "      <td>92</td>\n",
       "      <td>85</td>\n",
       "      <td>76</td>\n",
       "      <td>92</td>\n",
       "      <td>105</td>\n",
       "      <td>105</td>\n",
       "      <td>108</td>\n",
       "      <td>133</td>\n",
       "      <td>163</td>\n",
       "      <td>157</td>\n",
       "      <td>163</td>\n",
       "      <td>164</td>\n",
       "      <td>179</td>\n",
       "    </tr>\n",
       "  </tbody>\n",
       "</table>\n",
       "<p>5 rows × 784 columns</p>\n",
       "</div>"
      ],
      "text/plain": [
       "   pixel1  pixel2  pixel3  pixel4  ...  pixel781  pixel782  pixel783  pixel784\n",
       "0     107     118     127     134  ...       206       204       203       202\n",
       "1     155     157     156     156  ...       175       103       135       149\n",
       "2     187     188     188     187  ...       198       195       194       195\n",
       "3     211     211     212     212  ...       225       222       229       163\n",
       "4     164     167     170     172  ...       157       163       164       179\n",
       "\n",
       "[5 rows x 784 columns]"
      ]
     },
     "execution_count": 55,
     "metadata": {
      "tags": []
     },
     "output_type": "execute_result"
    }
   ],
   "source": [
    "labels = data['label']\n",
    "data = data.drop('label',axis= 1)\n",
    "data.head()"
   ]
  },
  {
   "cell_type": "code",
   "execution_count": 56,
   "metadata": {
    "colab": {
     "base_uri": "https://localhost:8080/",
     "height": 34
    },
    "colab_type": "code",
    "id": "-PlOk9vJ9n_h",
    "outputId": "5dc5fbaa-a30c-413c-9fb5-038148e2217a"
   },
   "outputs": [
    {
     "name": "stdout",
     "output_type": "stream",
     "text": [
      "(27455,)\n"
     ]
    }
   ],
   "source": [
    "print(labels.shape)"
   ]
  },
  {
   "cell_type": "code",
   "execution_count": 92,
   "metadata": {
    "colab": {
     "base_uri": "https://localhost:8080/",
     "height": 612
    },
    "colab_type": "code",
    "id": "jH3Bdeb1-EZ-",
    "outputId": "ea429245-1945-4572-fa01-400f2cba5dfe"
   },
   "outputs": [
    {
     "data": {
      "image/png": "[encoded data removed]",
      "text/plain": [
       "<Figure size 720x720 with 1 Axes>"
      ]
     },
     "metadata": {
      "tags": []
     },
     "output_type": "display_data"
    },
    {
     "name": "stdout",
     "output_type": "stream",
     "text": [
      "B\n"
     ]
    }
   ],
   "source": [
    "plt.figure(figsize=(10,10))\n",
    "ids = 2\n",
    "\n",
    "data_matrix = data.iloc[ids].as_matrix().reshape(28,28)  # reshape from 1d to 2d pixel array\n",
    "plt.imshow(data_matrix, interpolation = \"none\", cmap = \"gray\")\n",
    "plt.show()\n",
    "\n",
    "print(labels[ids])"
   ]
  },
  {
   "cell_type": "markdown",
   "metadata": {
    "colab_type": "text",
    "id": "3wlJ2WIRAcH6"
   },
   "source": [
    "#  2D Representation and Visualisation using PCA "
   ]
  },
  {
   "cell_type": "code",
   "execution_count": 58,
   "metadata": {
    "colab": {
     "base_uri": "https://localhost:8080/",
     "height": 34
    },
    "colab_type": "code",
    "id": "JFFxiNmQ_7gg",
    "outputId": "b08fa0ab-a0e0-439b-d70d-1e9246ba32dd"
   },
   "outputs": [
    {
     "name": "stdout",
     "output_type": "stream",
     "text": [
      "The shape of the data becomes (15000, 784)  and labels become (15000,)\n"
     ]
    }
   ],
   "source": [
    "data = data.head(15000)\n",
    "labels = labels.head(15000)\n",
    "print(\"The shape of the data becomes\",data.shape,\" and labels become\",labels.shape)"
   ]
  },
  {
   "cell_type": "code",
   "execution_count": 59,
   "metadata": {
    "colab": {
     "base_uri": "https://localhost:8080/",
     "height": 34
    },
    "colab_type": "code",
    "id": "VGAvgweUBoht",
    "outputId": "7dc73626-428c-4a6b-a39e-830cd8de96c6"
   },
   "outputs": [
    {
     "name": "stdout",
     "output_type": "stream",
     "text": [
      "The standardised data shape is (15000, 784)\n"
     ]
    }
   ],
   "source": [
    "from sklearn.preprocessing import StandardScaler\n",
    "scaler = StandardScaler()\n",
    "standardised_data = scaler.fit_transform(data)\n",
    "print(\"The standardised data shape is\",standardised_data.shape)"
   ]
  },
  {
   "cell_type": "markdown",
   "metadata": {
    "colab_type": "text",
    "id": "A219_VedDCSW"
   },
   "source": [
    "# Covariance Matrix"
   ]
  },
  {
   "cell_type": "markdown",
   "metadata": {
    "colab_type": "text",
    "id": "C_pJBJhjDFlT"
   },
   "source": [
    "***Covariance matrix is used to understand how the variables of input data set are varying from mean wrt to each other or is there any relation ship among one another.***\n",
    "* It is a Symmetric matrix obtained by X^T * X\n",
    "* cov(a,a)   ---> var(a)\n",
    "* cov(xi,yi) ---> sum[(xi-Ux) * (yi-Uy)] where sum means summation over i=1 to n && U means mean\n",
    "* Covarince matrix is not more than a table that summarises correlation between all possible pairs of variables\n"
   ]
  },
  {
   "cell_type": "code",
   "execution_count": 60,
   "metadata": {
    "colab": {
     "base_uri": "https://localhost:8080/",
     "height": 34
    },
    "colab_type": "code",
    "id": "5Wbf-C2oCniL",
    "outputId": "d14577a6-4d67-4ef4-ae29-c28ad42f4dcf"
   },
   "outputs": [
    {
     "name": "stdout",
     "output_type": "stream",
     "text": [
      "The shape of co_variance matrix =  (784, 784)\n"
     ]
    }
   ],
   "source": [
    "resultant_data = standardised_data\n",
    "\n",
    "# matrix multiplication using numpy\n",
    "covariance_matrix = np.matmul(resultant_data.T , resultant_data)\n",
    "\n",
    "print ( \"The shape of co_variance matrix = \", covariance_matrix.shape)"
   ]
  },
  {
   "cell_type": "markdown",
   "metadata": {
    "colab_type": "text",
    "id": "69-8rukKGPEy"
   },
   "source": [
    "# What is the use of Eigen Values and Eigen Vectors ?"
   ]
  },
  {
   "cell_type": "markdown",
   "metadata": {
    "colab_type": "text",
    "id": "am04pUpOGNJd"
   },
   "source": [
    "***Eigen vectors are the unit vectors which gives the direction of gives the direction of maximum spread of the points in that dimension***\n"
   ]
  },
  {
   "cell_type": "markdown",
   "metadata": {
    "colab_type": "text",
    "id": "s_y54mZEbN43"
   },
   "source": [
    "![alt text](https://drive.google.com/uc?id=1O1WnSkX13RBocF4lu5q9OsIdUIg5qjvc)"
   ]
  },
  {
   "cell_type": "code",
   "execution_count": 61,
   "metadata": {
    "colab": {
     "base_uri": "https://localhost:8080/",
     "height": 51
    },
    "colab_type": "code",
    "id": "fh3MOClZFJdx",
    "outputId": "3183acf0-571f-4498-d468-6011f6b74abb"
   },
   "outputs": [
    {
     "name": "stdout",
     "output_type": "stream",
     "text": [
      "Shape of eigen vectors =  (784, 2)\n",
      "Updated shape of eigen vectors =  (2, 784)\n"
     ]
    }
   ],
   "source": [
    "# finding the top two eigen-values and corresponding eigen-vectors \n",
    "\n",
    "from scipy.linalg import eigh \n",
    "\n",
    "# eigh gives eigen values and vectors in ascending order and eigvals of parameters 782,783 gives top two eigen values \n",
    "values, vectors = eigh(covariance_matrix, eigvals=(782,783))\n",
    "\n",
    "print(\"Shape of eigen vectors = \",vectors.shape)\n",
    "\n",
    "# transposing of vector to give(2,d) dimension\n",
    "vectors = vectors.T\n",
    "\n",
    "print(\"Updated shape of eigen vectors = \",vectors.shape)\n",
    "\n",
    "# here the vectors[1] represent the eigen vector corresponding 1st principal eigen vector\n",
    "# here the vectors[0] represent the eigen vector corresponding 2nd principal eigen vector"
   ]
  },
  {
   "cell_type": "code",
   "execution_count": 62,
   "metadata": {
    "colab": {
     "base_uri": "https://localhost:8080/",
     "height": 34
    },
    "colab_type": "code",
    "id": "070Ld0bhIotr",
    "outputId": "1e116517-1b09-4b0c-cb98-53afad40e8c8"
   },
   "outputs": [
    {
     "name": "stdout",
     "output_type": "stream",
     "text": [
      " resultanat new data point's shape  (2, 784) X (784, 15000)  =  (2, 15000)\n"
     ]
    }
   ],
   "source": [
    "# projecting the original data sample on the plane \n",
    "\n",
    "import matplotlib.pyplot as plt\n",
    "\n",
    "reshaping_of_original_coordinates = np.matmul(vectors,resultant_data.T)\n",
    "\n",
    "print (\" resultanat new data point's shape \", vectors.shape, \"X\", data.T.shape,\" = \", reshaping_of_original_coordinates.shape)"
   ]
  },
  {
   "cell_type": "code",
   "execution_count": 0,
   "metadata": {
    "colab": {},
    "colab_type": "code",
    "id": "7WMaB3B5K3N3"
   },
   "outputs": [],
   "source": [
    "words_dict ={\n",
    "    0:'A',\n",
    "    1:'B',\n",
    "    2:'C',\n",
    "    3:'D',\n",
    "    4:'E',\n",
    "    5:'F',\n",
    "    6:'G',\n",
    "    7:'H',\n",
    "    8:'I',\n",
    "    9:'J',\n",
    "    10:'K',\n",
    "    11:'L',\n",
    "    12:'M',\n",
    "    13:'N',\n",
    "    14:'O',\n",
    "    15:'P',\n",
    "    16:'Q',\n",
    "    17:'R',\n",
    "    18:'S',\n",
    "    19:'T',\n",
    "    20:'U',\n",
    "    21:'V',\n",
    "    22:'W',\n",
    "    23:'X',\n",
    "    24:'Y',\n",
    "    25:'Z'\n",
    "}"
   ]
  },
  {
   "cell_type": "code",
   "execution_count": 73,
   "metadata": {
    "colab": {
     "base_uri": "https://localhost:8080/",
     "height": 34
    },
    "colab_type": "code",
    "id": "0XDz35KrMHdg",
    "outputId": "d5a04eb7-8fe6-440c-9ed7-efe90ca58119"
   },
   "outputs": [
    {
     "data": {
      "text/plain": [
       "'B'"
      ]
     },
     "execution_count": 73,
     "metadata": {
      "tags": []
     },
     "output_type": "execute_result"
    }
   ],
   "source": [
    "words_dict[1]"
   ]
  },
  {
   "cell_type": "code",
   "execution_count": 84,
   "metadata": {
    "colab": {
     "base_uri": "https://localhost:8080/",
     "height": 119
    },
    "colab_type": "code",
    "id": "vTpoqlh7McO4",
    "outputId": "bc077a29-0431-4481-bab0-c6fdf6f72cd1"
   },
   "outputs": [
    {
     "name": "stdout",
     "output_type": "stream",
     "text": [
      "0    A\n",
      "1    A\n",
      "2    B\n",
      "3    C\n",
      "4    D\n",
      "dtype: object\n"
     ]
    }
   ],
   "source": [
    "for i in range(len(labels)) :\n",
    "  if(labels[i] in words_dict.keys()) :\n",
    "    labels[i] = words_dict[labels[i]]\n",
    "labels = pd.Series(labels)\n",
    "print(labels.head())"
   ]
  },
  {
   "cell_type": "code",
   "execution_count": 85,
   "metadata": {
    "colab": {
     "base_uri": "https://localhost:8080/",
     "height": 119
    },
    "colab_type": "code",
    "id": "oqdsLumFJglc",
    "outputId": "f3e7486c-211d-4919-8c0b-55f878291f7d"
   },
   "outputs": [
    {
     "name": "stdout",
     "output_type": "stream",
     "text": [
      "  1st_principal_component 2nd_principal_component labels\n",
      "0                0.347344                 4.62431      A\n",
      "1                -4.45913                 6.69406      A\n",
      "2                -20.6547               -0.336218      B\n",
      "3                -20.3266                -9.53171      C\n",
      "4                -2.89753                -6.60637      D\n"
     ]
    }
   ],
   "source": [
    "import pandas as pd\n",
    "\n",
    "# appending label to the data\n",
    "final_coordinates = np.vstack((reshaping_of_original_coordinates, labels)).T\n",
    "\n",
    "# Final2d Data set\n",
    "two_d_data = pd.DataFrame(data=final_coordinates, columns=(\"1st_principal_component\", \"2nd_principal_component\", \"labels\"))\n",
    "print(two_d_data.head())"
   ]
  },
  {
   "cell_type": "markdown",
   "metadata": {
    "colab_type": "text",
    "id": "AdXvnPgxTbU8"
   },
   "source": [
    "# Visualising our data using seaborn"
   ]
  },
  {
   "cell_type": "code",
   "execution_count": 87,
   "metadata": {
    "colab": {
     "base_uri": "https://localhost:8080/",
     "height": 441
    },
    "colab_type": "code",
    "id": "T5TzJCajTZiA",
    "outputId": "7e946bd2-fcb1-4636-9b0b-6e323bec9aec"
   },
   "outputs": [
    {
     "data": {
      "image/png": "[encoded data removed]",
      "text/plain": [
       "<Figure size 477.875x432 with 1 Axes>"
      ]
     },
     "metadata": {
      "tags": []
     },
     "output_type": "display_data"
    }
   ],
   "source": [
    "import seaborn as sn\n",
    "sn.FacetGrid(two_d_data, hue=\"labels\", size=6).map(plt.scatter, '1st_principal_component', '2nd_principal_component').add_legend()\n",
    "plt.show()"
   ]
  },
  {
   "cell_type": "markdown",
   "metadata": {
    "colab_type": "text",
    "id": "ZWQwk7hIUNQ5"
   },
   "source": [
    "# PCA using Scikit-Learn"
   ]
  },
  {
   "cell_type": "markdown",
   "metadata": {
    "colab_type": "text",
    "id": "nMMK8MiLUO1c"
   },
   "source": [
    "***Let's implement same using sklearn's implementation***"
   ]
  },
  {
   "cell_type": "code",
   "execution_count": 89,
   "metadata": {
    "colab": {
     "base_uri": "https://localhost:8080/",
     "height": 34
    },
    "colab_type": "code",
    "id": "neqz7SDuUGuZ",
    "outputId": "1b0cc68d-2b68-4b77-bfca-9cdf255c1c05"
   },
   "outputs": [
    {
     "name": "stdout",
     "output_type": "stream",
     "text": [
      "shape of sklearn's pca implemented data's shape =  (15000, 2)\n"
     ]
    }
   ],
   "source": [
    "from sklearn import decomposition\n",
    "pca = decomposition.PCA(n_components = 2)\n",
    "pca_data = pca.fit_transform(resultant_data)\n",
    "print(\"shape of sklearn's pca implemented data's shape = \", pca_data.shape)"
   ]
  },
  {
   "cell_type": "code",
   "execution_count": 90,
   "metadata": {
    "colab": {
     "base_uri": "https://localhost:8080/",
     "height": 441
    },
    "colab_type": "code",
    "id": "1ZVpn7YwVpyO",
    "outputId": "206d0820-24f7-4767-a5d0-faaec1d508b3"
   },
   "outputs": [
    {
     "data": {
      "image/png": "[encoded data removed]",
      "text/plain": [
       "<Figure size 477.875x432 with 1 Axes>"
      ]
     },
     "metadata": {
      "tags": []
     },
     "output_type": "display_data"
    }
   ],
   "source": [
    "pca_data = np.vstack((pca_data.T, labels)).T\n",
    "\n",
    "# creating a new data fram which help us in ploting the result data\n",
    "pca_resultant_data = pd.DataFrame(data=pca_data, columns=(\"1st_principal_component\", \"2nd_principal_component\", \"labels\"))\n",
    "sns.FacetGrid(pca_resultant_data, hue=\"labels\", size=6).map(plt.scatter, '1st_principal_component', '2nd_principal_component').add_legend()\n",
    "plt.show()"
   ]
  },
  {
   "cell_type": "markdown",
   "metadata": {
    "colab_type": "text",
    "id": "KmurBW0jW6-E"
   },
   "source": [
    "# PCA estimation using cumulative sum of percentage Variance Share"
   ]
  },
  {
   "cell_type": "markdown",
   "metadata": {
    "colab_type": "text",
    "id": "371oIhyra3eD"
   },
   "source": [
    "* lambda_i gives eigen values\n",
    "* lambda_i/(sum(lambda_i)) gives percentage of variance explained and we plot the cummulative sums of percentage of variances explained"
   ]
  },
  {
   "cell_type": "code",
   "execution_count": 91,
   "metadata": {
    "colab": {
     "base_uri": "https://localhost:8080/",
     "height": 283
    },
    "colab_type": "code",
    "id": "iXil4c2AWMQl",
    "outputId": "7e4fac97-3320-4efa-dfe5-a611d8de9ed9"
   },
   "outputs": [
    {
     "data": {
      "image/png": "[encoded data removed]",
      "text/plain": [
       "<Figure size 432x288 with 1 Axes>"
      ]
     },
     "metadata": {
      "tags": []
     },
     "output_type": "display_data"
    }
   ],
   "source": [
    "pca.n_components = 784\n",
    "pca_data = pca.fit_transform(resultant_data)\n",
    "\n",
    "percentage_var_explained = pca.explained_variance_ / np.sum(pca.explained_variance_);\n",
    "\n",
    "cum_var_explained = np.cumsum(percentage_var_explained)\n",
    "\n",
    "#plotting values of PCA\n",
    "plt.figure(1, figsize=(6, 4))\n",
    "\n",
    "plt.clf()\n",
    "plt.plot(cum_var_explained, linewidth=2)\n",
    "plt.axis('tight')\n",
    "plt.grid()\n",
    "plt.xlabel('n_components')\n",
    "plt.ylabel('Cumulative_explained_variance')\n",
    "plt.show()\n"
   ]
  },
  {
   "cell_type": "markdown",
   "metadata": {
    "colab_type": "text",
    "id": "DmxhFB_1XXJm"
   },
   "source": [
    "<h><font color=\"red\">CONCLUSIONS :</font></h>\n",
    "***By just considering only 100 components we preserves 95% of data***"
   ]
  },
  {
   "cell_type": "markdown",
   "metadata": {
    "colab_type": "text",
    "id": "nqpLh913jmEA"
   },
   "source": [
    "<h><font color=\"red\">LIMITATIONS OF PCA :</font></h>\n",
    "* Won't work for Sinusoidal data sets\n",
    "* Won't work for equally distributed data along axis\n",
    "* Data Loss to some extent"
   ]
  }
 ],
 "metadata": {
  "colab": {
   "collapsed_sections": [],
   "name": "alphabets_pca.ipynb",
   "provenance": [],
   "version": "0.3.2"
  },
  "kernelspec": {
   "display_name": "Python 3",
   "language": "python",
   "name": "python3"
  },
  "language_info": {
   "codemirror_mode": {
    "name": "ipython",
    "version": 3
   },
   "file_extension": ".py",
   "mimetype": "text/x-python",
   "name": "python",
   "nbconvert_exporter": "python",
   "pygments_lexer": "ipython3",
   "version": "3.6.5"
  }
 },
 "nbformat": 4,
 "nbformat_minor": 1
}
